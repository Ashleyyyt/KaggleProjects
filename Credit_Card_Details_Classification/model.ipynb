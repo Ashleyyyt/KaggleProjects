{
 "cells": [
  {
   "cell_type": "markdown",
   "metadata": {},
   "source": [
    "# Classification\n",
    "\n",
    "https://www.kaggle.com/datasets/rohitudageri/credit-card-details/data"
   ]
  },
  {
   "cell_type": "code",
   "execution_count": 39,
   "metadata": {},
   "outputs": [],
   "source": [
    "import numpy as np\n",
    "import matplotlib.pyplot as plt\n",
    "import pandas as pd\n"
   ]
  },
  {
   "cell_type": "code",
   "execution_count": 40,
   "metadata": {},
   "outputs": [],
   "source": [
    "df = pd.read_csv(\"Credit_card.csv\")\n",
    "labels = pd.read_csv(\"Credit_card_label.csv\")\n",
    "\n",
    "df = pd.merge(df, labels, on='Ind_ID')\n",
    "\n",
    "df = df.dropna()"
   ]
  },
  {
   "cell_type": "code",
   "execution_count": 41,
   "metadata": {},
   "outputs": [
    {
     "data": {
      "text/html": [
       "<div>\n",
       "<style scoped>\n",
       "    .dataframe tbody tr th:only-of-type {\n",
       "        vertical-align: middle;\n",
       "    }\n",
       "\n",
       "    .dataframe tbody tr th {\n",
       "        vertical-align: top;\n",
       "    }\n",
       "\n",
       "    .dataframe thead th {\n",
       "        text-align: right;\n",
       "    }\n",
       "</style>\n",
       "<table border=\"1\" class=\"dataframe\">\n",
       "  <thead>\n",
       "    <tr style=\"text-align: right;\">\n",
       "      <th></th>\n",
       "      <th>Ind_ID</th>\n",
       "      <th>GENDER</th>\n",
       "      <th>Car_Owner</th>\n",
       "      <th>Propert_Owner</th>\n",
       "      <th>CHILDREN</th>\n",
       "      <th>Annual_income</th>\n",
       "      <th>Type_Income</th>\n",
       "      <th>EDUCATION</th>\n",
       "      <th>Marital_status</th>\n",
       "      <th>Housing_type</th>\n",
       "      <th>Birthday_count</th>\n",
       "      <th>Employed_days</th>\n",
       "      <th>Mobile_phone</th>\n",
       "      <th>Work_Phone</th>\n",
       "      <th>Phone</th>\n",
       "      <th>EMAIL_ID</th>\n",
       "      <th>Type_Occupation</th>\n",
       "      <th>Family_Members</th>\n",
       "      <th>label</th>\n",
       "    </tr>\n",
       "  </thead>\n",
       "  <tbody>\n",
       "    <tr>\n",
       "      <th>8</th>\n",
       "      <td>5010864</td>\n",
       "      <td>M</td>\n",
       "      <td>Y</td>\n",
       "      <td>Y</td>\n",
       "      <td>1</td>\n",
       "      <td>450000.00</td>\n",
       "      <td>Commercial associate</td>\n",
       "      <td>Secondary / secondary special</td>\n",
       "      <td>Married</td>\n",
       "      <td>House / apartment</td>\n",
       "      <td>-18173.00</td>\n",
       "      <td>-678</td>\n",
       "      <td>1</td>\n",
       "      <td>0</td>\n",
       "      <td>1</td>\n",
       "      <td>1</td>\n",
       "      <td>Core staff</td>\n",
       "      <td>3</td>\n",
       "      <td>1</td>\n",
       "    </tr>\n",
       "    <tr>\n",
       "      <th>9</th>\n",
       "      <td>5010868</td>\n",
       "      <td>M</td>\n",
       "      <td>Y</td>\n",
       "      <td>Y</td>\n",
       "      <td>1</td>\n",
       "      <td>450000.00</td>\n",
       "      <td>Pensioner</td>\n",
       "      <td>Secondary / secondary special</td>\n",
       "      <td>Married</td>\n",
       "      <td>House / apartment</td>\n",
       "      <td>-18173.00</td>\n",
       "      <td>-678</td>\n",
       "      <td>1</td>\n",
       "      <td>0</td>\n",
       "      <td>1</td>\n",
       "      <td>1</td>\n",
       "      <td>Core staff</td>\n",
       "      <td>3</td>\n",
       "      <td>1</td>\n",
       "    </tr>\n",
       "    <tr>\n",
       "      <th>10</th>\n",
       "      <td>5010869</td>\n",
       "      <td>M</td>\n",
       "      <td>Y</td>\n",
       "      <td>Y</td>\n",
       "      <td>1</td>\n",
       "      <td>450000.00</td>\n",
       "      <td>Commercial associate</td>\n",
       "      <td>Secondary / secondary special</td>\n",
       "      <td>Single / not married</td>\n",
       "      <td>House / apartment</td>\n",
       "      <td>-18173.00</td>\n",
       "      <td>-678</td>\n",
       "      <td>1</td>\n",
       "      <td>0</td>\n",
       "      <td>1</td>\n",
       "      <td>1</td>\n",
       "      <td>Core staff</td>\n",
       "      <td>1</td>\n",
       "      <td>1</td>\n",
       "    </tr>\n",
       "    <tr>\n",
       "      <th>11</th>\n",
       "      <td>5018498</td>\n",
       "      <td>F</td>\n",
       "      <td>Y</td>\n",
       "      <td>Y</td>\n",
       "      <td>0</td>\n",
       "      <td>90000.00</td>\n",
       "      <td>Working</td>\n",
       "      <td>Secondary / secondary special</td>\n",
       "      <td>Married</td>\n",
       "      <td>House / apartment</td>\n",
       "      <td>-18950.00</td>\n",
       "      <td>-1002</td>\n",
       "      <td>1</td>\n",
       "      <td>1</td>\n",
       "      <td>1</td>\n",
       "      <td>0</td>\n",
       "      <td>Cooking staff</td>\n",
       "      <td>2</td>\n",
       "      <td>1</td>\n",
       "    </tr>\n",
       "    <tr>\n",
       "      <th>13</th>\n",
       "      <td>5018503</td>\n",
       "      <td>F</td>\n",
       "      <td>Y</td>\n",
       "      <td>Y</td>\n",
       "      <td>0</td>\n",
       "      <td>90000.00</td>\n",
       "      <td>Working</td>\n",
       "      <td>Secondary / secondary special</td>\n",
       "      <td>Married</td>\n",
       "      <td>House / apartment</td>\n",
       "      <td>-18950.00</td>\n",
       "      <td>-1002</td>\n",
       "      <td>1</td>\n",
       "      <td>1</td>\n",
       "      <td>1</td>\n",
       "      <td>0</td>\n",
       "      <td>Cooking staff</td>\n",
       "      <td>2</td>\n",
       "      <td>1</td>\n",
       "    </tr>\n",
       "  </tbody>\n",
       "</table>\n",
       "</div>"
      ],
      "text/plain": [
       "     Ind_ID GENDER Car_Owner Propert_Owner  CHILDREN  Annual_income   \n",
       "8   5010864      M         Y             Y         1      450000.00  \\\n",
       "9   5010868      M         Y             Y         1      450000.00   \n",
       "10  5010869      M         Y             Y         1      450000.00   \n",
       "11  5018498      F         Y             Y         0       90000.00   \n",
       "13  5018503      F         Y             Y         0       90000.00   \n",
       "\n",
       "             Type_Income                      EDUCATION        Marital_status   \n",
       "8   Commercial associate  Secondary / secondary special               Married  \\\n",
       "9              Pensioner  Secondary / secondary special               Married   \n",
       "10  Commercial associate  Secondary / secondary special  Single / not married   \n",
       "11               Working  Secondary / secondary special               Married   \n",
       "13               Working  Secondary / secondary special               Married   \n",
       "\n",
       "         Housing_type  Birthday_count  Employed_days  Mobile_phone   \n",
       "8   House / apartment       -18173.00           -678             1  \\\n",
       "9   House / apartment       -18173.00           -678             1   \n",
       "10  House / apartment       -18173.00           -678             1   \n",
       "11  House / apartment       -18950.00          -1002             1   \n",
       "13  House / apartment       -18950.00          -1002             1   \n",
       "\n",
       "    Work_Phone  Phone  EMAIL_ID Type_Occupation  Family_Members  label  \n",
       "8            0      1         1      Core staff               3      1  \n",
       "9            0      1         1      Core staff               3      1  \n",
       "10           0      1         1      Core staff               1      1  \n",
       "11           1      1         0   Cooking staff               2      1  \n",
       "13           1      1         0   Cooking staff               2      1  "
      ]
     },
     "execution_count": 41,
     "metadata": {},
     "output_type": "execute_result"
    }
   ],
   "source": [
    "df.head(5)"
   ]
  },
  {
   "cell_type": "code",
   "execution_count": 42,
   "metadata": {},
   "outputs": [],
   "source": [
    "from sklearn import preprocessing\n",
    "from sklearn import pipeline\n",
    "from sklearn import compose\n",
    "\n",
    "Y = df[\"label\"]\n",
    "X = df\n",
    "\n",
    "# transformer for categorical features\n",
    "categorical_features = ['GENDER', 'Car_Owner', 'Propert_Owner', \"CHILDREN\", \"Type_Income\", \"EDUCATION\", \"Marital_status\", \"Housing_type\", \"Mobile_phone\", \"Work_Phone\", \"Phone\", \"EMAIL_ID\", \"Type_Occupation\"]\n",
    "categorical_transformer = pipeline.Pipeline(\n",
    "    [\n",
    "        ('onehot', preprocessing.OneHotEncoder(drop='first',handle_unknown = 'ignore')),\n",
    "        ('StandardScaler', preprocessing.StandardScaler(with_mean=False))\n",
    "    ]\n",
    ")\n",
    "\n",
    "# transformer for numerical features\n",
    "numeric_features = ['Annual_income', 'Birthday_count', \"Employed_days\", \"Family_Members\"]\n",
    "numeric_transformer = pipeline.Pipeline(\n",
    "    [\n",
    "        ('StandardScaler', preprocessing.StandardScaler(with_mean=False))\n",
    "    ]\n",
    ")\n",
    "\n",
    "# combine them in a single ColumnTransformer\n",
    "preprocessor = compose.ColumnTransformer(\n",
    "    [\n",
    "        ('categoricals', categorical_transformer, categorical_features),\n",
    "        ('numericals', numeric_transformer, numeric_features)\n",
    "    ],\n",
    "    remainder = 'drop'\n",
    ")"
   ]
  },
  {
   "cell_type": "code",
   "execution_count": 66,
   "metadata": {},
   "outputs": [
    {
     "data": {
      "text/plain": [
       "0.8676880222841226"
      ]
     },
     "execution_count": 66,
     "metadata": {},
     "output_type": "execute_result"
    }
   ],
   "source": [
    "from sklearn import linear_model\n",
    "from sklearn import model_selection\n",
    "\n",
    "X_train, X_test, Y_train, Y_test = model_selection.train_test_split(X,Y,train_size=0.3, random_state=42)\n",
    "\n",
    "X_train_processed = preprocessor.fit_transform(X_train) # fit and transform X_train\n",
    "X_test_processed = preprocessor.transform(X_test) # transform X_test using the model fitted on X_train\n",
    "model = linear_model.LogisticRegression()\n",
    "\n",
    "model.fit(X_train_processed, Y_train)\n",
    "model.score(X_test_processed,Y_test)"
   ]
  },
  {
   "cell_type": "code",
   "execution_count": 44,
   "metadata": {},
   "outputs": [
    {
     "data": {
      "image/png": "[encoded data removed]",
      "text/plain": [
       "<Figure size 640x480 with 2 Axes>"
      ]
     },
     "metadata": {},
     "output_type": "display_data"
    },
    {
     "name": "stdout",
     "output_type": "stream",
     "text": [
      "              precision    recall  f1-score   support\n",
      "\n",
      "           0       0.89      0.97      0.93       634\n",
      "           1       0.26      0.07      0.11        84\n",
      "\n",
      "    accuracy                           0.87       718\n",
      "   macro avg       0.57      0.52      0.52       718\n",
      "weighted avg       0.81      0.87      0.83       718\n",
      "\n"
     ]
    }
   ],
   "source": [
    "from sklearn import metrics\n",
    "\n",
    "Y_pred = model.predict(X_test_processed)\n",
    "\n",
    "cm = metrics.confusion_matrix(Y_test, Y_pred)\n",
    "disp = metrics.ConfusionMatrixDisplay(cm)\n",
    "disp.plot()\n",
    "plt.show()\n",
    "\n",
    "print(metrics.classification_report(Y_test, Y_pred))"
   ]
  },
  {
   "cell_type": "code",
   "execution_count": 67,
   "metadata": {},
   "outputs": [
    {
     "data": {
      "image/png": "[encoded data removed]",
      "text/plain": [
       "<Figure size 640x480 with 2 Axes>"
      ]
     },
     "metadata": {},
     "output_type": "display_data"
    },
    {
     "name": "stdout",
     "output_type": "stream",
     "text": [
      "              precision    recall  f1-score   support\n",
      "\n",
      "           0       0.94      0.64      0.76       180\n",
      "           1       0.21      0.68      0.32        25\n",
      "\n",
      "    accuracy                           0.65       205\n",
      "   macro avg       0.57      0.66      0.54       205\n",
      "weighted avg       0.85      0.65      0.71       205\n",
      "\n"
     ]
    }
   ],
   "source": [
    "from imblearn.over_sampling import SMOTE\n",
    "\n",
    "X_train, X_test, Y_train, Y_test = model_selection.train_test_split(X,Y,train_size=0.8, random_state=42)\n",
    "X_train_processed = preprocessor.fit_transform(X_train) # fit and transform X_train\n",
    "X_test_processed = preprocessor.transform(X_test) # transform X_test using the model fitted on X_train\n",
    "\n",
    "oversample = SMOTE(random_state=42)\n",
    "X_train_processed,Y_train = oversample.fit_resample(X_train_processed,Y_train)\n",
    "\n",
    "model = linear_model.LogisticRegression()\n",
    "\n",
    "model.fit(X_train_processed, Y_train)\n",
    "model.score(X_test_processed,Y_test)\n",
    "\n",
    "Y_pred = model.predict(X_test_processed)\n",
    "\n",
    "cm = metrics.confusion_matrix(Y_test, Y_pred)\n",
    "disp = metrics.ConfusionMatrixDisplay(cm)\n",
    "disp.plot()\n",
    "plt.show()\n",
    "\n",
    "print(metrics.classification_report(Y_test, Y_pred))\n"
   ]
  },
  {
   "cell_type": "code",
   "execution_count": 78,
   "metadata": {},
   "outputs": [
    {
     "ename": "ValueError",
     "evalue": "Shape of passed values is (820, 46), indices imply (820, 18)",
     "output_type": "error",
     "traceback": [
      "\u001b[1;31m---------------------------------------------------------------------------\u001b[0m",
      "\u001b[1;31mValueError\u001b[0m                                Traceback (most recent call last)",
      "\u001b[1;32mc:\\Users\\Ashley\\Desktop\\Python Projects\\Credit_Card_Details_Classification\\model.ipynb Cell 8\u001b[0m line \u001b[0;36m1\n\u001b[0;32m      <a href='vscode-notebook-cell:/c%3A/Users/Ashley/Desktop/Python%20Projects/Credit_Card_Details_Classification/model.ipynb#X16sZmlsZQ%3D%3D?line=8'>9</a>\u001b[0m X_test_processed \u001b[39m=\u001b[39m X_test_processed\u001b[39m.\u001b[39mtodense()\n\u001b[0;32m     <a href='vscode-notebook-cell:/c%3A/Users/Ashley/Desktop/Python%20Projects/Credit_Card_Details_Classification/model.ipynb#X16sZmlsZQ%3D%3D?line=11'>12</a>\u001b[0m cols \u001b[39m=\u001b[39m X_train\u001b[39m.\u001b[39mdrop(columns\u001b[39m=\u001b[39m\u001b[39m\"\u001b[39m\u001b[39mlabel\u001b[39m\u001b[39m\"\u001b[39m)\u001b[39m.\u001b[39mkeys()\n\u001b[1;32m---> <a href='vscode-notebook-cell:/c%3A/Users/Ashley/Desktop/Python%20Projects/Credit_Card_Details_Classification/model.ipynb#X16sZmlsZQ%3D%3D?line=12'>13</a>\u001b[0m X_train_processed \u001b[39m=\u001b[39m pd\u001b[39m.\u001b[39;49mDataFrame(X_train_processed, columns\u001b[39m=\u001b[39;49mcols)\n\u001b[0;32m     <a href='vscode-notebook-cell:/c%3A/Users/Ashley/Desktop/Python%20Projects/Credit_Card_Details_Classification/model.ipynb#X16sZmlsZQ%3D%3D?line=13'>14</a>\u001b[0m X_test_processed \u001b[39m=\u001b[39m pd\u001b[39m.\u001b[39mDataFrame(X_test_processed, columns\u001b[39m=\u001b[39mcols)\n\u001b[0;32m     <a href='vscode-notebook-cell:/c%3A/Users/Ashley/Desktop/Python%20Projects/Credit_Card_Details_Classification/model.ipynb#X16sZmlsZQ%3D%3D?line=16'>17</a>\u001b[0m oversample \u001b[39m=\u001b[39m SMOTE(random_state\u001b[39m=\u001b[39m\u001b[39m42\u001b[39m)\n",
      "File \u001b[1;32mc:\\Users\\Ashley\\AppData\\Local\\Programs\\Python\\Python39\\lib\\site-packages\\pandas\\core\\frame.py:758\u001b[0m, in \u001b[0;36mDataFrame.__init__\u001b[1;34m(self, data, index, columns, dtype, copy)\u001b[0m\n\u001b[0;32m    747\u001b[0m         mgr \u001b[39m=\u001b[39m dict_to_mgr(\n\u001b[0;32m    748\u001b[0m             \u001b[39m# error: Item \"ndarray\" of \"Union[ndarray, Series, Index]\" has no\u001b[39;00m\n\u001b[0;32m    749\u001b[0m             \u001b[39m# attribute \"name\"\u001b[39;00m\n\u001b[1;32m   (...)\u001b[0m\n\u001b[0;32m    755\u001b[0m             copy\u001b[39m=\u001b[39m_copy,\n\u001b[0;32m    756\u001b[0m         )\n\u001b[0;32m    757\u001b[0m     \u001b[39melse\u001b[39;00m:\n\u001b[1;32m--> 758\u001b[0m         mgr \u001b[39m=\u001b[39m ndarray_to_mgr(\n\u001b[0;32m    759\u001b[0m             data,\n\u001b[0;32m    760\u001b[0m             index,\n\u001b[0;32m    761\u001b[0m             columns,\n\u001b[0;32m    762\u001b[0m             dtype\u001b[39m=\u001b[39;49mdtype,\n\u001b[0;32m    763\u001b[0m             copy\u001b[39m=\u001b[39;49mcopy,\n\u001b[0;32m    764\u001b[0m             typ\u001b[39m=\u001b[39;49mmanager,\n\u001b[0;32m    765\u001b[0m         )\n\u001b[0;32m    767\u001b[0m \u001b[39m# For data is list-like, or Iterable (will consume into list)\u001b[39;00m\n\u001b[0;32m    768\u001b[0m \u001b[39melif\u001b[39;00m is_list_like(data):\n",
      "File \u001b[1;32mc:\\Users\\Ashley\\AppData\\Local\\Programs\\Python\\Python39\\lib\\site-packages\\pandas\\core\\internals\\construction.py:337\u001b[0m, in \u001b[0;36mndarray_to_mgr\u001b[1;34m(values, index, columns, dtype, copy, typ)\u001b[0m\n\u001b[0;32m    332\u001b[0m \u001b[39m# _prep_ndarraylike ensures that values.ndim == 2 at this point\u001b[39;00m\n\u001b[0;32m    333\u001b[0m index, columns \u001b[39m=\u001b[39m _get_axes(\n\u001b[0;32m    334\u001b[0m     values\u001b[39m.\u001b[39mshape[\u001b[39m0\u001b[39m], values\u001b[39m.\u001b[39mshape[\u001b[39m1\u001b[39m], index\u001b[39m=\u001b[39mindex, columns\u001b[39m=\u001b[39mcolumns\n\u001b[0;32m    335\u001b[0m )\n\u001b[1;32m--> 337\u001b[0m _check_values_indices_shape_match(values, index, columns)\n\u001b[0;32m    339\u001b[0m \u001b[39mif\u001b[39;00m typ \u001b[39m==\u001b[39m \u001b[39m\"\u001b[39m\u001b[39marray\u001b[39m\u001b[39m\"\u001b[39m:\n\u001b[0;32m    340\u001b[0m     \u001b[39mif\u001b[39;00m \u001b[39missubclass\u001b[39m(values\u001b[39m.\u001b[39mdtype\u001b[39m.\u001b[39mtype, \u001b[39mstr\u001b[39m):\n",
      "File \u001b[1;32mc:\\Users\\Ashley\\AppData\\Local\\Programs\\Python\\Python39\\lib\\site-packages\\pandas\\core\\internals\\construction.py:408\u001b[0m, in \u001b[0;36m_check_values_indices_shape_match\u001b[1;34m(values, index, columns)\u001b[0m\n\u001b[0;32m    406\u001b[0m passed \u001b[39m=\u001b[39m values\u001b[39m.\u001b[39mshape\n\u001b[0;32m    407\u001b[0m implied \u001b[39m=\u001b[39m (\u001b[39mlen\u001b[39m(index), \u001b[39mlen\u001b[39m(columns))\n\u001b[1;32m--> 408\u001b[0m \u001b[39mraise\u001b[39;00m \u001b[39mValueError\u001b[39;00m(\u001b[39mf\u001b[39m\u001b[39m\"\u001b[39m\u001b[39mShape of passed values is \u001b[39m\u001b[39m{\u001b[39;00mpassed\u001b[39m}\u001b[39;00m\u001b[39m, indices imply \u001b[39m\u001b[39m{\u001b[39;00mimplied\u001b[39m}\u001b[39;00m\u001b[39m\"\u001b[39m)\n",
      "\u001b[1;31mValueError\u001b[0m: Shape of passed values is (820, 46), indices imply (820, 18)"
     ]
    }
   ],
   "source": [
    "import lazypredict\n",
    "from lazypredict.Supervised import LazyClassifier\n",
    "\n",
    "X_train, X_test, Y_train, Y_test = model_selection.train_test_split(X,Y,train_size=0.8, random_state=42)\n",
    "X_train_processed = preprocessor.fit_transform(X_train) # fit and transform X_train\n",
    "X_test_processed = preprocessor.transform(X_test) # transform X_test using the model fitted on X_train\n",
    "\n",
    "X_train_processed = X_train_processed.todense()\n",
    "X_test_processed = X_test_processed.todense()\n",
    "    \n",
    "\n",
    "cols = X_train.drop(columns=\"label\").keys()\n",
    "X_train_processed = pd.DataFrame(X_train_processed, columns=cols)\n",
    "X_test_processed = pd.DataFrame(X_test_processed, columns=cols)\n",
    "\n",
    "\n",
    "oversample = SMOTE(random_state=42)\n",
    "X_train_processed,Y_train = oversample.fit_resample(X_train_processed,Y_train)\n",
    "\n",
    "clf = LazyClassifier(verbose=0,\n",
    "                     ignore_warnings=True,\n",
    "                     custom_metric=None,\n",
    "                     predictions=False,\n",
    "                     random_state=42,\n",
    "                     classifiers='all')\n",
    "\n",
    "models, predictions = clf.fit(X_train_processed , X_test_processed , Y_train , Y_test)\n",
    "models.sort_values(by=\"F1 Score\",ascending=False)"
   ]
  },
  {
   "cell_type": "code",
   "execution_count": 81,
   "metadata": {},
   "outputs": [
    {
     "data": {
      "text/plain": [
       "numpy.matrix"
      ]
     },
     "execution_count": 81,
     "metadata": {},
     "output_type": "execute_result"
    }
   ],
   "source": []
  },
  {
   "cell_type": "code",
   "execution_count": 77,
   "metadata": {},
   "outputs": [
    {
     "data": {
      "text/plain": [
       "Index(['Ind_ID', 'GENDER', 'Car_Owner', 'Propert_Owner', 'CHILDREN',\n",
       "       'Annual_income', 'Type_Income', 'EDUCATION', 'Marital_status',\n",
       "       'Housing_type', 'Birthday_count', 'Employed_days', 'Mobile_phone',\n",
       "       'Work_Phone', 'Phone', 'EMAIL_ID', 'Type_Occupation', 'Family_Members'],\n",
       "      dtype='object')"
      ]
     },
     "execution_count": 77,
     "metadata": {},
     "output_type": "execute_result"
    }
   ],
   "source": [
    "X_train.drop(columns=\"label\").keys()"
   ]
  },
  {
   "cell_type": "code",
   "execution_count": null,
   "metadata": {},
   "outputs": [],
   "source": []
  }
 ],
 "metadata": {
  "kernelspec": {
   "display_name": "Python 3",
   "language": "python",
   "name": "python3"
  },
  "language_info": {
   "codemirror_mode": {
    "name": "ipython",
    "version": 3
   },
   "file_extension": ".py",
   "mimetype": "text/x-python",
   "name": "python",
   "nbconvert_exporter": "python",
   "pygments_lexer": "ipython3",
   "version": "3.9.0"
  },
  "orig_nbformat": 4
 },
 "nbformat": 4,
 "nbformat_minor": 2
}
